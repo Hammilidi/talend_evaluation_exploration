{
 "cells": [
  {
   "cell_type": "code",
   "execution_count": 1,
   "id": "272e62ae",
   "metadata": {},
   "outputs": [],
   "source": [
    "import pandas as pd\n",
    "import json\n",
    "import sqlite3\n",
    "import random"
   ]
  },
  {
   "cell_type": "markdown",
   "id": "b0d2e4b8",
   "metadata": {},
   "source": [
    "- import pandas as pd: Ici, nous importons la bibliothèque pandas, qui est utilisée pour la manipulation et l'analyse des données. Elle fournit des structures de données puissantes pour travailler avec des données tabulaires, comme les DataFrames. En l'important sous l'alias pd, nous pouvons l'utiliser plus facilement dans notre code en utilisant pd.nom_de_la_methode."
   ]
  },
  {
   "cell_type": "markdown",
   "id": "ac2b477a",
   "metadata": {},
   "source": [
    "- import json: Nous importons également le module json, qui fournit des méthodes pour travailler avec le format JSON (JavaScript Object Notation). JSON est un format de données couramment utilisé pour échanger des données entre serveurs et clients, ou pour sauvegarder des données dans un format lisible par l'homme."
   ]
  },
  {
   "cell_type": "markdown",
   "id": "5b0b91ff",
   "metadata": {},
   "source": [
    "- import sqlite3: Ici, nous importons le module sqlite3, qui est intégré à Python et permet de travailler avec des bases de données SQLite. SQLite est un système de gestion de base de données relationnelles léger, intégré dans Python et ne nécessitant aucune configuration de serveur."
   ]
  },
  {
   "cell_type": "markdown",
   "id": "cd8c610a",
   "metadata": {},
   "source": [
    "- import random: Le module random est utilisé pour générer des nombres aléatoires. Nous l'utilisons ici pour mélanger les lignes de données du fichier CSV afin d'assurer une répartition aléatoire des données."
   ]
  },
  {
   "cell_type": "code",
   "execution_count": 2,
   "id": "7f837702",
   "metadata": {},
   "outputs": [],
   "source": [
    "# Chargement du fichier csv\n",
    "def load_data_from_csv(csv_file):\n",
    "    data = pd.read_csv(csv_file)\n",
    "    return data\n"
   ]
  },
  {
   "cell_type": "markdown",
   "id": "1b80f0d1",
   "metadata": {},
   "source": [
    "- load_data_from_csv(csv_file): C'est une fonction définie par l'utilisateur qui prend le nom du fichier CSV en argument (csv_file). Elle utilise la fonction pd.read_csv de pandas pour charger les données du fichier CSV dans un DataFrame. Un DataFrame est une structure de données de pandas qui permet de manipuler facilement les données tabulaires."
   ]
  },
  {
   "cell_type": "code",
   "execution_count": 3,
   "id": "4d219bd4",
   "metadata": {},
   "outputs": [],
   "source": [
    "# Melange\n",
    "def shuffle_data(data):\n",
    "    shuffled_data = data.sample(frac=1, random_state=42)\n",
    "    return shuffled_data\n"
   ]
  },
  {
   "cell_type": "markdown",
   "id": "184085eb",
   "metadata": {},
   "source": [
    "- shuffle_data(data): C'est une autre fonction définie par l'utilisateur qui prend le DataFrame (data) en argument. Cette fonction mélange les lignes du DataFrame en utilisant la méthode sample de pandas. Nous fixons random_state=42 pour obtenir des résultats reproductibles (toujours le même mélange), ce qui peut être utile pour le débogage. La fonction renvoie le DataFrame mélangé."
   ]
  },
  {
   "cell_type": "code",
   "execution_count": 4,
   "id": "f0ce447b",
   "metadata": {},
   "outputs": [],
   "source": [
    "# Sauvegarde sous format .json\n",
    "def save_to_json(data, json_file):\n",
    "    data.to_json(json_file, orient='records', lines=True)\n",
    "    "
   ]
  },
  {
   "cell_type": "markdown",
   "id": "5e5e20d5",
   "metadata": {},
   "source": [
    "- save_to_json(data, json_file): Cette fonction prend le DataFrame (data) et le nom du fichier JSON (json_file) en arguments. Elle utilise la méthode to_json de pandas pour sauvegarder les données du DataFrame dans un fichier JSON. L'argument orient='records' indique que chaque ligne du DataFrame est une entrée distincte dans le fichier JSON. L'argument lines=True permet d'écrire chaque ligne dans le fichier JSON sur une nouvelle ligne pour une meilleure lisibilité."
   ]
  },
  {
   "cell_type": "code",
   "execution_count": 5,
   "id": "cdc22511",
   "metadata": {},
   "outputs": [],
   "source": [
    "# Sauvegarde sous format .csv\n",
    "def save_to_csv(data, csv_file):\n",
    "    data.to_csv(csv_file, index=False)\n",
    "    "
   ]
  },
  {
   "cell_type": "markdown",
   "id": "b61c514c",
   "metadata": {},
   "source": [
    "- save_to_csv(data, csv_file): Cette fonction prend le DataFrame (data) et le nom du fichier CSV (csv_file) en arguments. Elle utilise la méthode to_csv de pandas pour sauvegarder les données du DataFrame dans un fichier CSV. L'argument index=False est utilisé pour ne pas inclure l'index du DataFrame dans le fichier CSV, car cela n'est généralement pas nécessaire pour les données sauvegardées."
   ]
  },
  {
   "cell_type": "code",
   "execution_count": 6,
   "id": "02bd03bd",
   "metadata": {},
   "outputs": [],
   "source": [
    "# Sauvegarde dans une base de données\n",
    "def save_to_database(data, table_name, db_name):\n",
    "    conn = sqlite3.connect(db_name)\n",
    "    data.to_sql(table_name, conn, index=False, if_exists='replace')\n",
    "    conn.close()\n",
    "    "
   ]
  },
  {
   "cell_type": "markdown",
   "id": "b4b7e40d",
   "metadata": {},
   "source": [
    "- save_to_database(data, table_name, db_name): Cette fonction prend le DataFrame (data), le nom de la table (table_name) et le nom de la base de données SQLite (db_name) en arguments. Elle utilise le module sqlite3 pour établir une connexion à la base de données SQLite spécifiée. Ensuite, elle utilise la méthode to_sql de pandas pour transférer les données du DataFrame dans la table spécifiée dans la base de données. L'argument if_exists='replace' est utilisé pour remplacer la table si elle existe déjà."
   ]
  },
  {
   "cell_type": "code",
   "execution_count": 7,
   "id": "69529fd7",
   "metadata": {},
   "outputs": [
    {
     "name": "stdout",
     "output_type": "stream",
     "text": [
      "*******************************      DATA SPLITTER       *********************************************\n",
      "BIENVENUE ! Nous vous aiderons à stocker vos données sous trois formats: .json, .csv et une base de données !\n",
      "Veuillez nous remplir les informations suivantes\n",
      "Veuillez entrer le nom de la base: eComDW\n",
      "Veuillez entrer le nom de la table: table\n",
      "Veuillez entrer le pourcentage de fichier json: 40\n",
      "Veuillez entrer le pourcentage de la base: 0\n",
      "Veuillez entrer le nom du fichier JSON de sortie (ex: output.json): eval\n",
      "Veuillez entrer le nom du fichier CSV de sortie (ex: output.csv): eval\n",
      "\n",
      "-------------------------------------------------------------------\n",
      "Vous avez nommé votre base de données: eComDW\n",
      "Vous souhaitez insérer dans la table: table\n",
      "Vous voulez insérer 40% dans un fichier JSON et 0% dans la base de données\n",
      "-------------------------------------------------------------------\n",
      "\n",
      "Souhaitez-vous apporter une modification ?(y/n): n\n",
      "très bien ! Veuillez patienter un instant !\n",
      "Le traitement est terminé !\n",
      "Retrouvez eval.json, eval.csv et eComDW dans votre repertoire courant !\n",
      "Ravi de vous avoir aidé!\n",
      "A la prochaine !\n",
      "Et n'oubliez pas de prendre soin de vous!\n",
      "Vous etes une personne formidable !\n"
     ]
    }
   ],
   "source": [
    "import time\n",
    "\n",
    "def display_with_delay(text, delay):\n",
    "    time.sleep(delay)\n",
    "    print(text)\n",
    "\n",
    "display_with_delay(\"*******************************      DATA SPLITTER       *********************************************\", 2)\n",
    "display_with_delay(\"BIENVENUE ! Nous vous aiderons à stocker vos données sous trois formats: .json, .csv et une base de données !\", 3)\n",
    "display_with_delay(\"Veuillez nous remplir les informations suivantes\", 3)\n",
    "\n",
    "\n",
    "# Intéraction avec l'utilisateur\n",
    "database = input(\"Veuillez entrer le nom de la base: \")\n",
    "table = input(\"Veuillez entrer le nom de la table: \")\n",
    "json_percent = int(input(\"Veuillez entrer le pourcentage de fichier json: \"))\n",
    "db_percent = int(input(\"Veuillez entrer le pourcentage de la base: \"))\n",
    "f_json = input(\"Veuillez entrer le nom du fichier JSON de sortie (ex: output.json): \")\n",
    "f_csv = input(\"Veuillez entrer le nom du fichier CSV de sortie (ex: output.csv): \")\n",
    "\n",
    "print()\n",
    "print(\"-------------------------------------------------------------------\")\n",
    "print(f\"Vous avez nommé votre base de données: {database}\")\n",
    "print(f\"Vous souhaitez insérer dans la table: {table}\")\n",
    "print(f\"Vous voulez insérer {json_percent}% dans un fichier JSON et {db_percent}% dans la base de données\")\n",
    "print(\"-------------------------------------------------------------------\")\n",
    "print()\n",
    "\n",
    "response = input(\"Souhaitez-vous apporter une modification ?(y/n): \")\n",
    "\n",
    "if response == \"y\":\n",
    "    print(\"Que souhaitez-vous modifier ?\")\n",
    "    choice = int(input(\"Tape 1 pour modifier la base de données\\nTape 2 pour modifier la table\\Tape 3 pour modifier le pourcentage de json\\Tape 4 pour modifier le pourcentage de base de données.\"))\n",
    "    if choice == 1:\n",
    "        database = input(\"Veuillez entrer le nom de la base: \")\n",
    "    elif choice == 2:\n",
    "        table = input(\"Veuillez entrer le nom de la table: \")\n",
    "    elif choice == 3:\n",
    "        json_percent = int(input(\"Veuillez entrer le pourcentage de fichier json: \"))\n",
    "    elif choice == 4:\n",
    "        db_percent = int(input(\"Veuillez entrer le pourcentage de la base: \"))\n",
    "    else:\n",
    "        print(\"Veuillez:\\nTaper 1 pour modifier la base de données\\nTaper 2 pour modifier la table\\nTaper 3 pour modifier le pourcentage de json\\nTaper 4 pour modifier le pourcentage de base de données\")\n",
    "elif response == \"n\":\n",
    "    print(\"très bien ! Veuillez patienter un instant !\")\n",
    "else:\n",
    "   response = input(\"Souhaitez-vous apporter une modification ?(y/n): \") \n",
    "\n",
    "              \n",
    "# Set desired arguments here\n",
    "csv_file = \"ecommerce-data.csv\"\n",
    "json_file = f_json + \".json\"\n",
    "csv_destination = f_csv + \".csv\"\n",
    "db_name = database\n",
    "table_name = table\n",
    "json_percentage = json_percent\n",
    "db_percentage = 25\n",
    "\n",
    "# Load and Shuffle\n",
    "data = load_data_from_csv(csv_file)\n",
    "shuffled_data = shuffle_data(data)\n",
    "\n",
    "# Lines Calculis\n",
    "total_rows = len(shuffled_data)\n",
    "json_rows = int(json_percentage / 100 * total_rows)\n",
    "db_rows = int(db_percentage / 100 * total_rows)\n",
    "csv_rows = total_rows - json_rows - db_rows\n",
    "\n",
    "# Sauvegarde dans le fichier JSON\n",
    "json_data = shuffled_data[:json_rows]\n",
    "save_to_json(json_data, json_file)\n",
    "\n",
    "# Sauvegarde dans le fichier CSV\n",
    "csv_data = shuffled_data[json_rows:json_rows + csv_rows]\n",
    "save_to_csv(csv_data, csv_destination)\n",
    "\n",
    "# Sauvegarde dans la base de données\n",
    "db_data = shuffled_data[json_rows + csv_rows:]\n",
    "save_to_database(db_data, table_name, db_name)\n",
    "\n",
    "display_with_delay(\"Le traitement est terminé !\", 2)\n",
    "display_with_delay(f\"Retrouvez {json_file}, {csv_destination} et {database} dans votre repertoire courant !\", 2)\n",
    "display_with_delay(\"Ravi de vous avoir aidé!\", 2)\n",
    "display_with_delay(\"A la prochaine !\", 2)\n",
    "display_with_delay(\"Et n'oubliez pas de prendre soin de vous!\", 2)\n",
    "print(\"Vous etes une personne formidable !\")\n",
    "\n"
   ]
  },
  {
   "cell_type": "markdown",
   "id": "26f13db7",
   "metadata": {},
   "source": [
    "- Set desired arguments here"
   ]
  },
  {
   "cell_type": "markdown",
   "id": "51a92bb3",
   "metadata": {},
   "source": [
    "Dans cette partie, nous définissons les arguments souhaités pour exécuter le script. Ces valeurs définissent les noms de fichiers d'entrée et de sortie ainsi que les pourcentages de répartition pour chaque destination (JSON, base de données et CSV). Vous pouvez personnaliser ces valeurs en fonction de vos besoins."
   ]
  },
  {
   "cell_type": "markdown",
   "id": "a409e01d",
   "metadata": {},
   "source": [
    "- Load & Shuffle\n"
   ]
  },
  {
   "cell_type": "markdown",
   "id": "98edd8a5",
   "metadata": {},
   "source": [
    "Nous chargeons les données à partir du fichier CSV spécifié (csv_file) en utilisant la fonction load_data_from_csv, puis nous mélangeons les lignes des données en utilisant la fonction shuffle_data. Cela nous permet d'assurer une répartition aléatoire des lignes du fichier CSV."
   ]
  },
  {
   "cell_type": "markdown",
   "id": "b0461597",
   "metadata": {},
   "source": [
    "- Lines Calculis"
   ]
  },
  {
   "cell_type": "markdown",
   "id": "93da2e40",
   "metadata": {},
   "source": [
    "Nous calculons le nombre de lignes nécessaires pour chaque destination en fonction des pourcentages spécifiés. json_percentage et db_percentage représentent les pourcentages que vous avez définis dans les arguments. Nous utilisons int(...) pour convertir les pourcentages en nombre entier de lignes."
   ]
  },
  {
   "cell_type": "markdown",
   "id": "420d546f",
   "metadata": {},
   "source": [
    "- Sauvegarde dans les fichiers JSON, CSV et dans la base de données"
   ]
  },
  {
   "cell_type": "code",
   "execution_count": null,
   "id": "fc00b028",
   "metadata": {},
   "outputs": [],
   "source": []
  }
 ],
 "metadata": {
  "kernelspec": {
   "display_name": "Python 3 (ipykernel)",
   "language": "python",
   "name": "python3"
  },
  "language_info": {
   "codemirror_mode": {
    "name": "ipython",
    "version": 3
   },
   "file_extension": ".py",
   "mimetype": "text/x-python",
   "name": "python",
   "nbconvert_exporter": "python",
   "pygments_lexer": "ipython3",
   "version": "3.11.3"
  },
  "vp": {
   "vp_config_version": "1.0.0",
   "vp_menu_width": 273,
   "vp_note_display": false,
   "vp_note_width": 0,
   "vp_position": {
    "width": 278
   },
   "vp_section_display": false,
   "vp_signature": "VisualPython"
  }
 },
 "nbformat": 4,
 "nbformat_minor": 5
}
